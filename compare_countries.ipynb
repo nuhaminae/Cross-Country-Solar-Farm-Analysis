{
  "cells": [
    {
      "cell_type": "code",
      "execution_count": 1,
      "id": "5e47fe30",
      "metadata": {
        "id": "5e47fe30"
      },
      "outputs": [],
      "source": [
        "#Import important python libraries\n",
        "import pandas as pd\n",
        "import numpy as np\n",
        "from scipy import stats\n",
        "import os\n",
        "\n",
        "#For visualisation\n",
        "import matplotlib.pyplot as plt\n",
        "import seaborn as sns\n",
        "\n",
        "#To ignore warnings\n",
        "import warnings\n",
        "warnings.filterwarnings('ignore')"
      ]
    },
    {
      "cell_type": "markdown",
      "id": "51786ae2",
      "metadata": {
        "id": "51786ae2"
      },
      "source": [
        "# **Metric Comparison**"
      ]
    },
    {
      "cell_type": "code",
      "execution_count": 2,
      "id": "9f5f2526",
      "metadata": {
        "id": "9f5f2526",
        "outputId": "0b563434-2299-4caf-a5f9-6c6768c51385"
      },
      "outputs": [
        {
          "name": "stdout",
          "output_type": "stream",
          "text": [
            "Clean Benin Data\n",
            "(517860, 18)\n",
            "          Timestamp  GHI  DNI  DHI  ModA  ModB  Tamb    RH   WS  WSgust  \\\n",
            "0  2021-08-09 00:01 -1.2 -0.2 -1.1   0.0   0.0  26.2  93.4  0.0     0.4   \n",
            "1  2021-08-09 00:02 -1.1 -0.2 -1.1   0.0   0.0  26.2  93.6  0.0     0.0   \n",
            "2  2021-08-09 00:03 -1.1 -0.2 -1.1   0.0   0.0  26.2  93.7  0.3     1.1   \n",
            "3  2021-08-09 00:04 -1.1 -0.1 -1.0   0.0   0.0  26.2  93.3  0.2     0.7   \n",
            "4  2021-08-09 00:05 -1.0 -0.1 -1.0   0.0   0.0  26.2  93.3  0.1     0.7   \n",
            "\n",
            "   WSstdev     WD  WDstdev   BP  Cleaning  Precipitation  TModA  TModB  \n",
            "0      0.1  122.1      0.0  998         0            0.0   26.3   26.2  \n",
            "1      0.0    0.0      0.0  998         0            0.0   26.3   26.2  \n",
            "2      0.5  124.6      1.5  997         0            0.0   26.4   26.2  \n",
            "3      0.4  120.3      1.3  997         0            0.0   26.4   26.3  \n",
            "4      0.3  113.2      1.0  997         0            0.0   26.4   26.3  \n",
            "\n",
            "Clean Sierraleone Data\n",
            "(509308, 18)\n",
            "          Timestamp  GHI  DNI  DHI  ModA  ModB  Tamb    RH   WS  WSgust  \\\n",
            "0  2021-10-30 00:01 -0.7 -0.1 -0.8   0.0   0.0  21.9  99.1  0.0     0.0   \n",
            "1  2021-10-30 00:02 -0.7 -0.1 -0.8   0.0   0.0  21.9  99.2  0.0     0.0   \n",
            "2  2021-10-30 00:03 -0.7 -0.1 -0.8   0.0   0.0  21.9  99.2  0.0     0.0   \n",
            "3  2021-10-30 00:04 -0.7  0.0 -0.8   0.0   0.0  21.9  99.3  0.0     0.0   \n",
            "4  2021-10-30 00:05 -0.7 -0.1 -0.8   0.0   0.0  21.9  99.3  0.0     0.0   \n",
            "\n",
            "   WSstdev   WD  WDstdev    BP  Cleaning  Precipitation  TModA  TModB  \n",
            "0      0.0  0.0      0.0  1002         0            0.0   22.3   22.6  \n",
            "1      0.0  0.0      0.0  1002         0            0.0   22.3   22.6  \n",
            "2      0.0  0.0      0.0  1002         0            0.0   22.3   22.6  \n",
            "3      0.0  0.0      0.0  1002         0            0.1   22.3   22.6  \n",
            "4      0.0  0.0      0.0  1002         0            0.0   22.3   22.6  \n",
            "\n",
            "Clean Togo Data\n",
            "(516349, 18)\n",
            "          Timestamp  GHI  DNI  DHI  ModA  ModB  Tamb    RH   WS  WSgust  \\\n",
            "0  2021-10-25 00:01 -1.3  0.0  0.0   0.0   0.0  24.8  94.5  0.9     1.1   \n",
            "1  2021-10-25 00:02 -1.3  0.0  0.0   0.0   0.0  24.8  94.4  1.1     1.6   \n",
            "2  2021-10-25 00:03 -1.3  0.0  0.0   0.0   0.0  24.8  94.4  1.2     1.4   \n",
            "3  2021-10-25 00:04 -1.2  0.0  0.0   0.0   0.0  24.8  94.3  1.2     1.6   \n",
            "4  2021-10-25 00:05 -1.2  0.0  0.0   0.0   0.0  24.8  94.0  1.3     1.6   \n",
            "\n",
            "   WSstdev     WD  WDstdev   BP  Cleaning  Precipitation  TModA  TModB  \n",
            "0      0.4  227.6      1.1  977         0            0.0   24.7   24.4  \n",
            "1      0.4  229.3      0.7  977         0            0.0   24.7   24.4  \n",
            "2      0.3  228.5      2.9  977         0            0.0   24.7   24.4  \n",
            "3      0.3  229.1      4.6  977         0            0.0   24.7   24.4  \n",
            "4      0.4  227.5      1.6  977         0            0.0   24.7   24.4  \n",
            "\n"
          ]
        }
      ],
      "source": [
        "#load data set and explore head\n",
        "benin = pd.read_csv('C:/Users/nuhamin/Documents/kifiya/week 0/Cross-Country-Solar-Farm-Analysis/data/Benin_clean.csv')\n",
        "sierraleone = pd.read_csv('C:/Users/nuhamin/Documents/kifiya/week 0/Cross-Country-Solar-Farm-Analysis/data/Sierraleone_clean.csv')\n",
        "togo = pd.read_csv('C:/Users/nuhamin/Documents/kifiya/week 0/Cross-Country-Solar-Farm-Analysis/data/Togo_clean.csv')\n",
        "\n",
        "print ('Clean Benin Data')\n",
        "print(benin.shape)\n",
        "print (benin.head())\n",
        "print()\n",
        "\n",
        "print ('Clean Sierraleone Data')\n",
        "print(sierraleone.shape)\n",
        "print (sierraleone.head())\n",
        "print()\n",
        "\n",
        "print ('Clean Togo Data')\n",
        "print(togo.shape)\n",
        "print (togo.head())\n",
        "print()"
      ]
    },
    {
      "cell_type": "code",
      "execution_count": 3,
      "id": "2e986d99",
      "metadata": {
        "id": "2e986d99",
        "outputId": "57eac890-bcd1-4ef6-d46a-6cfd9a8e7092"
      },
      "outputs": [
        {
          "name": "stdout",
          "output_type": "stream",
          "text": [
            "Country           Benin                                                        \\\n",
            "                     BP Cleaning  DHI  DNI  GHI ModA ModB Precipitation    RH   \n",
            "Timestamp                                                                       \n",
            "2021-10-30 00:01  994.0      0.0 -2.1 -0.5 -2.0  0.0  0.0           0.0  77.4   \n",
            "2021-10-30 00:02  994.0      0.0 -2.1 -0.5 -2.0  0.0  0.0           0.0  77.6   \n",
            "2021-10-30 00:03  994.0      0.0 -2.1 -0.5 -1.9  0.0  0.0           0.0  77.8   \n",
            "2021-10-30 00:04  994.0      0.0 -2.1 -0.5 -2.0  0.0  0.0           0.0  77.9   \n",
            "2021-10-30 00:05  994.0      0.0 -2.1 -0.5 -2.0  0.0  0.0           0.0  78.0   \n",
            "\n",
            "Country                 ...          Togo                                 \\\n",
            "                 TModA  ... Precipitation    RH TModA TModB  Tamb     WD   \n",
            "Timestamp               ...                                                \n",
            "2021-10-30 00:01  23.5  ...           0.0  78.5  23.6  23.1  25.3  246.5   \n",
            "2021-10-30 00:02  23.4  ...           0.0  78.3  23.6  23.1  25.3  245.4   \n",
            "2021-10-30 00:03  23.4  ...           0.0  78.2  23.6  23.1  25.3  243.3   \n",
            "2021-10-30 00:04  23.4  ...           0.0  78.1  23.6  23.1  25.4  244.1   \n",
            "2021-10-30 00:05  23.4  ...           0.0  78.1  23.6  23.1  25.4  237.1   \n",
            "\n",
            "Country                                       \n",
            "                 WDstdev   WS WSgust WSstdev  \n",
            "Timestamp                                     \n",
            "2021-10-30 00:01     5.6  1.5    1.9     0.4  \n",
            "2021-10-30 00:02     5.4  1.7    2.1     0.4  \n",
            "2021-10-30 00:03     2.9  1.7    1.9     0.3  \n",
            "2021-10-30 00:04     2.0  1.6    1.9     0.4  \n",
            "2021-10-30 00:05     3.3  1.6    1.9     0.4  \n",
            "\n",
            "[5 rows x 51 columns]\n",
            "dataframe shape before dropping rows is (641600, 51)\n",
            "dataframe shape after dropping rows: (384928, 51)\n"
          ]
        }
      ],
      "source": [
        "#concatnate country dataframe into one\n",
        "benin['Country'] = 'Benin'\n",
        "sierraleone['Country'] = 'Sierraleone'\n",
        "togo['Country'] = 'Togo'\n",
        "\n",
        "#create new df by concatnation and pivot\n",
        "combined_df = pd.concat([benin, sierraleone, togo], ignore_index=True)\n",
        "combined_df_pivoted = combined_df.pivot_table(index='Timestamp', columns='Country')\n",
        "\n",
        "#remove rows with any NaN values\n",
        "countries_clean = combined_df_pivoted.dropna(axis=0) #df to easily plot box plot\n",
        "countries_df = countries_clean.copy()\n",
        "\n",
        "#swap the levels in the column index\n",
        "countries_df.columns = countries_df.columns.swaplevel(0, 1)\n",
        "\n",
        "#sort the columns by the first level (Country)\n",
        "countries_df = countries_df.sort_index(axis=1, level=0)\n",
        "\n",
        "#print head\n",
        "print(countries_df.head())\n",
        "\n",
        "#dataframe shape before and after dropping\n",
        "print(\"dataframe shape before dropping rows is\", combined_df_pivoted.shape)\n",
        "print(\"dataframe shape after dropping rows:\", countries_df.shape)"
      ]
    },
    {
      "cell_type": "code",
      "execution_count": 4,
      "id": "a79cef7a",
      "metadata": {
        "id": "a79cef7a"
      },
      "outputs": [],
      "source": [
        "#export cleaned dataframe to data/country\n",
        "#define the directory and filename for the cleaned data\n",
        "output_dir = 'C:/Users/nuhamin/Documents/kifiya/week 0/Cross-Country-Solar-Farm-Analysis/data'\n",
        "output_filename = 'All_Countries_df.csv'\n",
        "output_path = os.path.join(output_dir, output_filename)\n",
        "\n",
        "#export the cleaned dataframe to csv file\n",
        "countries_df.to_csv(output_path)"
      ]
    },
    {
      "cell_type": "code",
      "execution_count": 5,
      "id": "5951d033",
      "metadata": {
        "id": "5951d033",
        "outputId": "47bf83e3-aad1-4d31-ec19-034bc38007d4"
      },
      "outputs": [
        {
          "data": {
            "image/png": "[encoded data removed]",
            "text/plain": [
              "<Figure size 1800x600 with 3 Axes>"
            ]
          },
          "metadata": {},
          "output_type": "display_data"
        }
      ],
      "source": [
        "#box plot GHI, BHI, and DHI\n",
        "sns.set_style(\"whitegrid\")\n",
        "\n",
        "#create a figure and axes for subplots\n",
        "fig, axes = plt.subplots(1, 3, figsize=(18, 6), sharey=False) #sharey=False allows different y-axis scales\n",
        "\n",
        "#plot GHI boxplots\n",
        "GHI_data = countries_clean['GHI']\n",
        "sns.boxplot(data=GHI_data, ax=axes[0])\n",
        "axes[0].set_title('GHI by Country')\n",
        "axes[0].set_ylabel('GHI')\n",
        "axes[0].set_xlabel('Country')\n",
        "\n",
        "#plot DNI boxplots\n",
        "DNI_data = countries_clean['DNI']\n",
        "sns.boxplot(data=DNI_data, ax=axes[1])\n",
        "axes[1].set_title('DNI by Country')\n",
        "axes[1].set_ylabel('DNI')\n",
        "axes[1].set_xlabel('Country')\n",
        "\n",
        "\n",
        "#plot DHI boxplots\n",
        "DHI_data = countries_clean['DHI']\n",
        "sns.boxplot(data=DHI_data, ax=axes[2])\n",
        "axes[2].set_title('DHI by Country')\n",
        "axes[2].set_ylabel('DHI')\n",
        "axes[2].set_xlabel('Country')\n",
        "\n",
        "# Adjust layout to prevent overlapping titles/labels\n",
        "plt.tight_layout()\n",
        "# Show the plots\n",
        "plt.show()\n"
      ]
    },
    {
      "cell_type": "code",
      "execution_count": 6,
      "id": "2dcb1edb",
      "metadata": {
        "id": "2dcb1edb",
        "outputId": "ef45dbb5-ad32-4dcb-8ac5-39c7ee211918"
      },
      "outputs": [
        {
          "name": "stdout",
          "output_type": "stream",
          "text": [
            "                GHI                                 DNI              \\\n",
            "Country       Benin Sierraleone        Togo       Benin Sierraleone   \n",
            "mean     224.889461  185.233857  219.303015  160.921755  112.120447   \n",
            "median    -0.800000   -0.500000   -0.500000   -0.200000   -0.100000   \n",
            "std      320.677333  281.843397  315.032836  254.290894  205.172217   \n",
            "\n",
            "                            DHI                          \n",
            "Country        Togo       Benin Sierraleone        Togo  \n",
            "mean     150.793638  107.173300  103.120830  108.515466  \n",
            "median     0.000000   -0.800000   -0.700000    0.300000  \n",
            "std      246.674563  151.590489  148.600953  148.839504  \n"
          ]
        }
      ],
      "source": [
        "#create summary table\n",
        "metrics_to_summarize = ['GHI', 'DNI', 'DHI']\n",
        "selected_metrics_df = countries_clean[metrics_to_summarize]\n",
        "print (selected_metrics_df.agg([np.mean, np.median, np.std]))\n"
      ]
    },
    {
      "cell_type": "markdown",
      "id": "5552e2af",
      "metadata": {
        "id": "5552e2af"
      },
      "source": [
        "# **Statistical Testing**"
      ]
    },
    {
      "cell_type": "code",
      "execution_count": 7,
      "id": "e3fde377",
      "metadata": {
        "id": "e3fde377",
        "outputId": "3357ce2b-f38d-46e9-83b5-31845fa7b65a"
      },
      "outputs": [
        {
          "name": "stdout",
          "output_type": "stream",
          "text": [
            "One-Way ANOVA on GHI\n",
            "\n",
            "ANOVA F-statistic is 1889.9980\n",
            "ANOVA p-value is 0.0000\n",
            "The differences in mean GHI between the countries are statistically significant (p < 0.05).\n"
          ]
        }
      ],
      "source": [
        "#run a one-way ANOVA on GHI values to assess whether differences between countries are significant\n",
        "#note p-value\n",
        "\n",
        "#extract GHI values from countries df\n",
        "benin_GHI= countries_df['Benin']['GHI']\n",
        "sierraleone_GHI= countries_df['Sierraleone']['GHI']\n",
        "togo_GHI= countries_df['Togo']['GHI']\n",
        "\n",
        "\n",
        "#check if there is enough data for the test\n",
        "if len(benin_GHI) > 1 and len(sierraleone_GHI) > 1 and len(togo_GHI) > 1:\n",
        "        print('One-Way ANOVA on GHI')\n",
        "        print()\n",
        "        fvalue_anova, pvalue_anova = stats.f_oneway(benin_GHI, sierraleone_GHI, togo_GHI)\n",
        "        print(f'ANOVA F-statistic is {fvalue_anova:.4f}') #rounded to four decimal point\n",
        "        print(f'ANOVA p-value is {pvalue_anova:.4f}') #rounded to four decimal point\n",
        "\n",
        "        #interpretation\n",
        "        alpha = 0.05 #significance alpha level\n",
        "        if pvalue_anova < alpha:\n",
        "            print('The differences in mean GHI between the countries are statistically significant (p < 0.05).')\n",
        "        else:\n",
        "            print('The differences in mean GHI between the countries are not statistically significant (p >= 0.05).')\n",
        "else:\n",
        "     print(\"\\nNot enough data points in one or more countries to perform One-Way ANOVA.\")\n",
        "\n"
      ]
    },
    {
      "cell_type": "markdown",
      "id": "166b542c",
      "metadata": {
        "id": "166b542c"
      },
      "source": [
        "# **Key Observations**"
      ]
    },
    {
      "cell_type": "markdown",
      "id": "f8845842",
      "metadata": {
        "id": "f8845842"
      },
      "source": [
        "## *GHI, DNI, and DHI Distribution*"
      ]
    },
    {
      "cell_type": "markdown",
      "id": "19942eba",
      "metadata": {
        "id": "19942eba"
      },
      "source": [
        "The boxplots visually show the distribution of GHI, DNI, and DHI values for each country. They show that Benin has the highest mean value for two of the three irradiance variables, GHI and DNI, and it slightly gets edged out by Togo for DHI variable. Sierra Leone comes third in every irradiance variable. The country that have greatest variablity or large standard deviation is Benin.\n"
      ]
    },
    {
      "cell_type": "markdown",
      "id": "2aa4282b",
      "metadata": {
        "id": "2aa4282b"
      },
      "source": [
        "## *Missing Data Impact*"
      ]
    },
    {
      "cell_type": "markdown",
      "id": "567eec1a",
      "metadata": {
        "id": "567eec1a"
      },
      "source": [
        "The difference in DataFrame shape before and after dropping rows with NaN values is ignificant. The difference in shape indicates the extent of missing data and how many timestamps were common across all countries and all metrics."
      ]
    },
    {
      "cell_type": "markdown",
      "id": "10c05c79",
      "metadata": {
        "id": "10c05c79"
      },
      "source": [
        "## *Statistical Significance*"
      ]
    },
    {
      "cell_type": "markdown",
      "id": "a8e1d40d",
      "metadata": {
        "id": "a8e1d40d"
      },
      "source": [
        "The p-values from the ANOVA tests provide statistical evidence about whether the observed differences in GHI values between the countries are likely due to random chance or represent a real difference. The result shows that the difference is statistically significant."
      ]
    },
    {
      "cell_type": "markdown",
      "id": "70dbf5ce",
      "metadata": {
        "id": "70dbf5ce"
      },
      "source": [
        "# **Visual Summary**"
      ]
    },
    {
      "cell_type": "code",
      "execution_count": 8,
      "id": "d9079e01",
      "metadata": {
        "id": "d9079e01",
        "outputId": "16b6237f-c0cb-4439-c2fd-a43b83b9eea5"
      },
      "outputs": [
        {
          "data": {
            "image/png": "[encoded data removed]",
            "text/plain": [
              "<Figure size 800x500 with 1 Axes>"
            ]
          },
          "metadata": {},
          "output_type": "display_data"
        }
      ],
      "source": [
        "#create a bar chart ranking countries by average GHI\n",
        "avg_ghi_by_country = countries_clean['GHI'].mean().sort_values(ascending=False)\n",
        "\n",
        "#adjust figure size\n",
        "plt.figure(figsize=(8, 5))\n",
        "\n",
        "#create barplot\n",
        "sns.barplot(x=avg_ghi_by_country.index, y=avg_ghi_by_country.values, palette='viridis') # Added palette\n",
        "plt.title('Average GHI by Country')\n",
        "plt.ylabel('Average GHI')\n",
        "plt.xlabel('Country')\n",
        "\n",
        "#show plot\n",
        "plt.show()"
      ]
    }
  ],
  "metadata": {
    "colab": {
      "provenance": []
    },
    "kernelspec": {
      "display_name": ".venv",
      "language": "python",
      "name": "python3"
    },
    "language_info": {
      "codemirror_mode": {
        "name": "ipython",
        "version": 3
      },
      "file_extension": ".py",
      "mimetype": "text/x-python",
      "name": "python",
      "nbconvert_exporter": "python",
      "pygments_lexer": "ipython3",
      "version": "3.13.3"
    }
  },
  "nbformat": 4,
  "nbformat_minor": 5
}
